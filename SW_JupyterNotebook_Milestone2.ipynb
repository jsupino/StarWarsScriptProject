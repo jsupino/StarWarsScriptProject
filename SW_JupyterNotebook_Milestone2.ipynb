{
 "cells": [
  {
   "cell_type": "code",
   "execution_count": 1,
   "id": "30b303af",
   "metadata": {},
   "outputs": [],
   "source": [
    "import numpy as np"
   ]
  },
  {
   "cell_type": "code",
   "execution_count": 2,
   "id": "7975839a",
   "metadata": {},
   "outputs": [],
   "source": [
    "import matplotlib.pyplot as plt"
   ]
  },
  {
   "cell_type": "code",
   "execution_count": 3,
   "id": "c00e9482",
   "metadata": {},
   "outputs": [],
   "source": [
    "from collections import Counter"
   ]
  },
  {
   "cell_type": "code",
   "execution_count": 5,
   "id": "e68cec82",
   "metadata": {},
   "outputs": [],
   "source": [
    "#create list: separated by each line: line number, character  name, and dialogue\n",
    "sw_dic = []\n",
    "with open(\"C:/Users/supin/Desktop/starwars/SW_EpisodeV.txt\", \"r\") as text:\n",
    "    text = text.readlines()[1:]  #skip first line in file\n",
    "    for line in text:\n",
    "        line = line.lower().split('\"') #lowercase all words and split by quotes\n",
    "        dialogue = line.pop(5)\n",
    "        name = line.pop(3)\n",
    "        line_number = line.pop(1)\n",
    "        new_obj = {\n",
    "            \"line\": line_number,\n",
    "            \"name\": name,\n",
    "            \"dialogue\": dialogue\n",
    "        }\n",
    "        sw_dic.append(new_obj)\n",
    "        \n",
    "#print out each line separately by line number, character name, and dialogue\n",
    "#commented print statement out for space purposes\n",
    "\n",
    "#print(sw_dic)"
   ]
  },
  {
   "cell_type": "code",
   "execution_count": 7,
   "id": "d2eac06b",
   "metadata": {},
   "outputs": [],
   "source": [
    "#create a list of all the names, line by line\n",
    "arr = np.array(sw_dic)\n",
    "name_column = [row['name'] for row in arr]"
   ]
  },
  {
   "cell_type": "code",
   "execution_count": 8,
   "id": "735f027c",
   "metadata": {},
   "outputs": [
    {
     "name": "stdout",
     "output_type": "stream",
     "text": [
      "{'luke': 128, 'han': 182, 'rieekan': 13, 'leia': 114, 'threepio': 92, 'deck officer': 7, 'assistant officer': 1, 'lieutenant': 2, 'derlin': 3, 'ben': 15, 'zev': 6, 'announcer': 3, 'senior controller': 2, 'piett': 23, 'ozzel': 5, 'vader': 56, 'rebel captain': 1, 'rebel fighter': 1, 'medical droid': 2, 'controller': 3, 'veers': 7, 'hobbie': 1, 'pilots': 1, 'captain': 1, 'woman controller': 1, 'dack': 4, 'trench officer': 3, 'wedge': 8, 'janson': 4, 'head controller': 1, 'officer': 1, 'second officer': 1, 'pilot': 1, 'imperial officer': 2, 'strange voice': 1, 'creature': 21, 'needa': 5, 'emperor': 5, 'yoda': 36, 'first controller': 1, 'second controller': 1, 'boba fett': 4, 'tracking officer': 2, 'communications officer': 2, 'intercom voice': 2, 'lando': 61, 'second threepio': 1, 'man': 1, 'imperial soldier': 1}\n"
     ]
    }
   ],
   "source": [
    "# create  a dictionary of how many lines each character has\n",
    "c = dict(Counter(name_column))\n",
    "print(c)"
   ]
  },
  {
   "cell_type": "code",
   "execution_count": 9,
   "id": "c3271875",
   "metadata": {},
   "outputs": [
    {
     "name": "stdout",
     "output_type": "stream",
     "text": [
      "The character with the most lines in this episode is: han\n"
     ]
    }
   ],
   "source": [
    "#find the character that speaks the most frequent\n",
    "def most_frequent(name_column):\n",
    "    counter = 0\n",
    "    num = name_column[0]\n",
    "    for i in name_column:\n",
    "        freq = name_column.count(i)\n",
    "        if(freq>counter):\n",
    "            counter = freq\n",
    "            num = i\n",
    "    return num\n",
    "#print the character with the most lines\n",
    "print(\"The character with the most lines in this episode is:\",most_frequent(name_column))"
   ]
  },
  {
   "cell_type": "code",
   "execution_count": 10,
   "id": "a60de699",
   "metadata": {},
   "outputs": [
    {
     "name": "stdout",
     "output_type": "stream",
     "text": [
      "dict_keys(['luke', 'han', 'rieekan', 'leia', 'threepio', 'deck officer', 'assistant officer', 'lieutenant', 'derlin', 'ben', 'zev', 'announcer', 'senior controller', 'piett', 'ozzel', 'vader', 'rebel captain', 'rebel fighter', 'medical droid', 'controller', 'veers', 'hobbie', 'pilots', 'captain', 'woman controller', 'dack', 'trench officer', 'wedge', 'janson', 'head controller', 'officer', 'second officer', 'pilot', 'imperial officer', 'strange voice', 'creature', 'needa', 'emperor', 'yoda', 'first controller', 'second controller', 'boba fett', 'tracking officer', 'communications officer', 'intercom voice', 'lando', 'second threepio', 'man', 'imperial soldier'])\n"
     ]
    }
   ],
   "source": [
    "#print only the character names\n",
    "d = c.keys()\n",
    "print(d)"
   ]
  },
  {
   "cell_type": "code",
   "execution_count": 11,
   "id": "c0d9a23c",
   "metadata": {},
   "outputs": [
    {
     "name": "stdout",
     "output_type": "stream",
     "text": [
      "dict_values([128, 182, 13, 114, 92, 7, 1, 2, 3, 15, 6, 3, 2, 23, 5, 56, 1, 1, 2, 3, 7, 1, 1, 1, 1, 4, 3, 8, 4, 1, 1, 1, 1, 2, 1, 21, 5, 5, 36, 1, 1, 4, 2, 2, 2, 61, 1, 1, 1])\n"
     ]
    }
   ],
   "source": [
    "#print only the values of how many lines each character has\n",
    "e = c.values()\n",
    "print(e)"
   ]
  },
  {
   "cell_type": "code",
   "execution_count": 16,
   "id": "b0f91adc",
   "metadata": {
    "scrolled": true
   },
   "outputs": [
    {
     "data": {
      "image/png": "[encoded data removed]",
      "text/plain": [
       "<Figure size 432x288 with 1 Axes>"
      ]
     },
     "metadata": {
      "needs_background": "light"
     },
     "output_type": "display_data"
    }
   ],
   "source": [
    "#create a bar chart comparing characters and the number of lines they have\n",
    "Character = d\n",
    "Frequency = e\n",
    "plt.bar(Character, Frequency, color=['purple'])\n",
    "plt.title('Character Lines in SW Episode V')\n",
    "plt.xlabel('Character', labelpad= -10)\n",
    "plt.xticks(rotation = 'vertical')\n",
    "plt.xticks(fontsize= 6)\n",
    "plt.ylabel('Frequency')\n",
    "plt.yticks(fontsize = 8)\n",
    "plt.show()"
   ]
  },
  {
   "cell_type": "code",
   "execution_count": null,
   "id": "83d8c809",
   "metadata": {},
   "outputs": [],
   "source": []
  }
 ],
 "metadata": {
  "kernelspec": {
   "display_name": "Python 3 (ipykernel)",
   "language": "python",
   "name": "python3"
  },
  "language_info": {
   "codemirror_mode": {
    "name": "ipython",
    "version": 3
   },
   "file_extension": ".py",
   "mimetype": "text/x-python",
   "name": "python",
   "nbconvert_exporter": "python",
   "pygments_lexer": "ipython3",
   "version": "3.9.7"
  }
 },
 "nbformat": 4,
 "nbformat_minor": 5
}
