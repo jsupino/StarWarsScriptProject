{
 "cells": [
  {
   "cell_type": "markdown",
   "id": "c9d8bc86",
   "metadata": {},
   "source": [
    "# Source Code"
   ]
  },
  {
   "cell_type": "markdown",
   "id": "66c67ff8",
   "metadata": {},
   "source": [
    "Import Required:"
   ]
  },
  {
   "cell_type": "code",
   "execution_count": 3,
   "id": "2dfd5d6c",
   "metadata": {},
   "outputs": [],
   "source": [
    "import numpy as np"
   ]
  },
  {
   "cell_type": "code",
   "execution_count": 4,
   "id": "1cf4740b",
   "metadata": {},
   "outputs": [],
   "source": [
    "import nltk"
   ]
  },
  {
   "cell_type": "code",
   "execution_count": 5,
   "id": "ff2d05c8",
   "metadata": {},
   "outputs": [],
   "source": [
    "import matplotlib.pyplot as plt"
   ]
  },
  {
   "cell_type": "code",
   "execution_count": 6,
   "id": "c30305e1",
   "metadata": {},
   "outputs": [],
   "source": [
    "from collections import Counter"
   ]
  },
  {
   "cell_type": "markdown",
   "id": "2214ddec",
   "metadata": {},
   "source": [
    "Download the necessary files for the Natural Language Toolkit\n",
    "\n",
    "*For this project, I downloaded the most popular*"
   ]
  },
  {
   "cell_type": "code",
   "execution_count": null,
   "id": "251e4aee",
   "metadata": {},
   "outputs": [],
   "source": [
    "nltk.download()"
   ]
  },
  {
   "cell_type": "markdown",
   "id": "7eb1d11f",
   "metadata": {},
   "source": [
    "Create a list where each line is split by the quotes and separated by commas. Then, each line is separated by line number, character name, and dialogue.\n",
    "\n",
    "Each word in the list becomes lowercased. This is the structured data that is used throughout this project.\n",
    "\n",
    "*For length purposes, the print statement is commented out. Refer to SW_Dataset.ipynb to view the entire printed out structured dataset.*"
   ]
  },
  {
   "cell_type": "code",
   "execution_count": 7,
   "id": "d38543cb",
   "metadata": {},
   "outputs": [],
   "source": [
    "#create a list: separated by each line: line number, character name, and dialogue\n",
    "sw_dic = []\n",
    "with open(\"C:/Users/supin/Desktop/starwars/SW_EpisodeV.txt\", \"r\") as text:\n",
    "    text = text.readlines()[1:]  #skip first line in file\n",
    "    for line in text:\n",
    "        line = line.lower().split('\"') #lowercase all words and split by quotes\n",
    "        dialogue = line.pop(5)\n",
    "        name = line.pop(3)\n",
    "        line_number = line.pop(1)\n",
    "        new_obj = {\n",
    "            \"line\": line_number,\n",
    "            \"name\": name,\n",
    "            \"dialogue\": dialogue\n",
    "        }\n",
    "        sw_dic.append(new_obj)\n",
    "# print(sw_dic)"
   ]
  },
  {
   "cell_type": "markdown",
   "id": "ecb63955",
   "metadata": {},
   "source": [
    "Create a numpy.ndarray of all the character names. Create a list to store all these names. Then using Counter, find the number of lines each character has and store in a dictionary."
   ]
  },
  {
   "cell_type": "code",
   "execution_count": 8,
   "id": "e568aa60",
   "metadata": {
    "scrolled": false
   },
   "outputs": [
    {
     "name": "stdout",
     "output_type": "stream",
     "text": [
      "{'luke': 128, 'han': 182, 'rieekan': 13, 'leia': 114, 'threepio': 92, 'deck officer': 7, 'assistant officer': 1, 'lieutenant': 2, 'derlin': 3, 'ben': 15, 'zev': 6, 'announcer': 3, 'senior controller': 2, 'piett': 23, 'ozzel': 5, 'vader': 56, 'rebel captain': 1, 'rebel fighter': 1, 'medical droid': 2, 'controller': 3, 'veers': 7, 'hobbie': 1, 'pilots': 1, 'captain': 1, 'woman controller': 1, 'dack': 4, 'trench officer': 3, 'wedge': 8, 'janson': 4, 'head controller': 1, 'officer': 1, 'second officer': 1, 'pilot': 1, 'imperial officer': 2, 'strange voice': 1, 'creature': 21, 'needa': 5, 'emperor': 5, 'yoda': 36, 'first controller': 1, 'second controller': 1, 'boba fett': 4, 'tracking officer': 2, 'communications officer': 2, 'intercom voice': 2, 'lando': 61, 'second threepio': 1, 'man': 1, 'imperial soldier': 1}\n"
     ]
    }
   ],
   "source": [
    "#create a numpy.ndarray of all character names\n",
    "arr = np.array(sw_dic)\n",
    "#create a list of all names\n",
    "name_column = [row['name'] for row in arr]\n",
    "#turn the list into a dictionary of how many lines each character has\n",
    "name_freq = dict(Counter(name_column))\n",
    "print(name_freq)"
   ]
  },
  {
   "cell_type": "markdown",
   "id": "f6cc1c30",
   "metadata": {},
   "source": [
    "Define a function to find the character that speaks the most frequently throughout this episode. This character has the most lines and is the most active."
   ]
  },
  {
   "cell_type": "code",
   "execution_count": 9,
   "id": "30a1d7f9",
   "metadata": {},
   "outputs": [
    {
     "name": "stdout",
     "output_type": "stream",
     "text": [
      "The most active character in this episode is:  han\n"
     ]
    }
   ],
   "source": [
    "#function to find the character that speaks the most frequent\n",
    "def most_frequent(name_column):\n",
    "    counter = 0\n",
    "    num = name_column[0]\n",
    "    for i in name_column:\n",
    "        freq = name_column.count(i)\n",
    "        if(freq>counter):\n",
    "            counter = freq\n",
    "            num = i\n",
    "    return num\n",
    "#print the character with the most lines\n",
    "print(\"The most active character in this episode is: \",most_frequent(name_column))"
   ]
  },
  {
   "cell_type": "markdown",
   "id": "8a51324a",
   "metadata": {},
   "source": [
    "Using the dictionary of all character names and line frequency, retrieve the keys and values."
   ]
  },
  {
   "cell_type": "code",
   "execution_count": 11,
   "id": "4cbd193d",
   "metadata": {},
   "outputs": [
    {
     "name": "stdout",
     "output_type": "stream",
     "text": [
      "dict_keys(['luke', 'han', 'rieekan', 'leia', 'threepio', 'deck officer', 'assistant officer', 'lieutenant', 'derlin', 'ben', 'zev', 'announcer', 'senior controller', 'piett', 'ozzel', 'vader', 'rebel captain', 'rebel fighter', 'medical droid', 'controller', 'veers', 'hobbie', 'pilots', 'captain', 'woman controller', 'dack', 'trench officer', 'wedge', 'janson', 'head controller', 'officer', 'second officer', 'pilot', 'imperial officer', 'strange voice', 'creature', 'needa', 'emperor', 'yoda', 'first controller', 'second controller', 'boba fett', 'tracking officer', 'communications officer', 'intercom voice', 'lando', 'second threepio', 'man', 'imperial soldier'])\n"
     ]
    }
   ],
   "source": [
    "#only the dictionary keys (character names)\n",
    "char_name_dic = name_freq.keys()\n",
    "print(char_name_dic)"
   ]
  },
  {
   "cell_type": "code",
   "execution_count": 13,
   "id": "b95c7ae5",
   "metadata": {},
   "outputs": [
    {
     "name": "stdout",
     "output_type": "stream",
     "text": [
      "dict_values([128, 182, 13, 114, 92, 7, 1, 2, 3, 15, 6, 3, 2, 23, 5, 56, 1, 1, 2, 3, 7, 1, 1, 1, 1, 4, 3, 8, 4, 1, 1, 1, 1, 2, 1, 21, 5, 5, 36, 1, 1, 4, 2, 2, 2, 61, 1, 1, 1])\n"
     ]
    }
   ],
   "source": [
    "#only the dictionary values (how many lines each character has)\n",
    "freq_dic = name_freq.values()\n",
    "print(freq_dic)"
   ]
  },
  {
   "cell_type": "markdown",
   "id": "7368db98",
   "metadata": {},
   "source": [
    "Using the keys and values, create a bar chart comparing the characters and their line frequency."
   ]
  },
  {
   "cell_type": "code",
   "execution_count": 14,
   "id": "518fe880",
   "metadata": {},
   "outputs": [
    {
     "data": {
      "image/png": "[encoded data removed]",
      "text/plain": [
       "<Figure size 432x288 with 1 Axes>"
      ]
     },
     "metadata": {
      "needs_background": "light"
     },
     "output_type": "display_data"
    }
   ],
   "source": [
    "#create a bar chart comparing characters and the number of lines they have\n",
    "Character = char_name_dic \n",
    "Frequency = freq_dic \n",
    "plt.bar(Character, Frequency, color=['purple'])\n",
    "plt.title('Character Lines in SW Episode V')\n",
    "plt.xlabel('Character', labelpad= -10)\n",
    "plt.xticks(rotation = 'vertical')\n",
    "plt.xticks(fontsize= 6)\n",
    "plt.ylabel('Frequency')\n",
    "plt.yticks(fontsize = 8)\n",
    "plt.show()"
   ]
  },
  {
   "cell_type": "markdown",
   "id": "49b00df4",
   "metadata": {},
   "source": [
    "-----"
   ]
  },
  {
   "cell_type": "markdown",
   "id": "d19ca0fe",
   "metadata": {},
   "source": [
    "Create a numpy.ndarray of all the dialogue spoken throughout the episode. Create a list to store all the dialogue.\n",
    "\n",
    "*For length purposes, the print statement is commented out*"
   ]
  },
  {
   "cell_type": "code",
   "execution_count": 16,
   "id": "72664462",
   "metadata": {},
   "outputs": [],
   "source": [
    "#create a numpy.ndarray of the dialogue\n",
    "dialogue_arr = np.array(sw_dic)\n",
    "#turn it into a list of the dialogue\n",
    "char_lines = [row['dialogue'] for row in dialogue_arr]\n",
    "#print(char_lines)"
   ]
  },
  {
   "cell_type": "markdown",
   "id": "6541e826",
   "metadata": {},
   "source": [
    "To use the dialogue, it is important to remove all punctuation. First, remove all outer punctuation.\n",
    "\n",
    "*For length purposes, the print statement is commented out*"
   ]
  },
  {
   "cell_type": "code",
   "execution_count": 17,
   "id": "704ec44a",
   "metadata": {},
   "outputs": [],
   "source": [
    "#remove punctuation\n",
    "import string\n",
    "excluded = set(string.punctuation)\n",
    "char_lines = ' '.join(ch for ch in char_lines if ch not in excluded)\n",
    "# print(char_lines)"
   ]
  },
  {
   "cell_type": "markdown",
   "id": "d26c0c44",
   "metadata": {},
   "source": [
    "After removing the outer punctuation, the inner punctuation must also be removed."
   ]
  },
  {
   "cell_type": "code",
   "execution_count": 18,
   "id": "3bf0ea89",
   "metadata": {},
   "outputs": [],
   "source": [
    "#remove the rest of the punctuation\n",
    "punc = '''!()-[]{};:'\"\\,<>./?@#$%^&*_~'''\n",
    "no_punc_lines = \" \"\n",
    "for char_punc in char_lines:\n",
    "    if char_punc not in punc:\n",
    "        no_punc_lines = no_punc_lines + char_punc\n",
    "no_punc_lines = no_punc_lines\n",
    "# print(no_punc_lines)"
   ]
  },
  {
   "cell_type": "markdown",
   "id": "4f0bc80c",
   "metadata": {},
   "source": [
    "Now, all stopwords must be removed from the dialogue. These stopwords are words that do not add much meaning to this analysis, and therefore are unnecessary.\n",
    "\n",
    "Import required:"
   ]
  },
  {
   "cell_type": "code",
   "execution_count": 20,
   "id": "e83b17fe",
   "metadata": {},
   "outputs": [],
   "source": [
    "from nltk.tokenize import word_tokenize\n",
    "from nltk.corpus import stopwords"
   ]
  },
  {
   "cell_type": "markdown",
   "id": "5da0d50a",
   "metadata": {},
   "source": [
    "If needed, download stopwords from the Natural Language Toolkit."
   ]
  },
  {
   "cell_type": "code",
   "execution_count": 21,
   "id": "c45be02a",
   "metadata": {},
   "outputs": [],
   "source": [
    "nltk.download('stopwords')"
   ]
  },
  {
   "cell_type": "markdown",
   "id": "d239c2ce",
   "metadata": {},
   "source": [
    "Remove all stopwords from the dialogue, storing it in a list.\n",
    "\n",
    "\n",
    "*For length purposes, the print statement is commented out*"
   ]
  },
  {
   "cell_type": "code",
   "execution_count": 25,
   "id": "d5c15030",
   "metadata": {},
   "outputs": [],
   "source": [
    "#remove stopwords from the dialogue\n",
    "stopWords = set(stopwords.words('english'))\n",
    "words = word_tokenize(no_punc_lines)\n",
    "filtered_dialogue = []\n",
    "\n",
    "for w in words:\n",
    "    if w not in stopWords:\n",
    "        filtered_dialogue.append(w)\n",
    "#print(filtered_dialogue)"
   ]
  },
  {
   "cell_type": "markdown",
   "id": "01a83171",
   "metadata": {},
   "source": [
    "Using Counter, find the 20 most common words used throughout the episode."
   ]
  },
  {
   "cell_type": "code",
   "execution_count": 26,
   "id": "22b104e3",
   "metadata": {
    "scrolled": true
   },
   "outputs": [
    {
     "name": "stdout",
     "output_type": "stream",
     "text": [
      "[('dont', 66), ('im', 61), ('oh', 42), ('well', 41), ('yes', 40), ('right', 38), ('sir', 38), ('know', 36), ('going', 35), ('get', 33), ('good', 31), ('see', 29), ('go', 28), ('lord', 28), ('come', 27), ('artoo', 27), ('chewie', 26), ('youre', 25), ('luke', 25), ('like', 25)]\n"
     ]
    }
   ],
   "source": [
    "#create a list of the 20 most common words used throughout the episode\n",
    "Count_no = Counter(filtered_dialogue)\n",
    "common_words = Count_no.most_common(20)\n",
    "print(common_words)"
   ]
  },
  {
   "cell_type": "markdown",
   "id": "59ed9b6e",
   "metadata": {},
   "source": [
    "Convert this list into a dictionary."
   ]
  },
  {
   "cell_type": "code",
   "execution_count": 27,
   "id": "aba1c2f8",
   "metadata": {
    "scrolled": true
   },
   "outputs": [
    {
     "name": "stdout",
     "output_type": "stream",
     "text": [
      "{'dont': 66, 'im': 61, 'oh': 42, 'well': 41, 'yes': 40, 'right': 38, 'sir': 38, 'know': 36, 'going': 35, 'get': 33, 'good': 31, 'see': 29, 'go': 28, 'lord': 28, 'come': 27, 'artoo': 27, 'chewie': 26, 'youre': 25, 'luke': 25, 'like': 25}\n"
     ]
    }
   ],
   "source": [
    "#Turn the list into a dictionary of the 20 most common words\n",
    "common_words_dic = dict(common_words)\n",
    "print(common_words_dic)"
   ]
  },
  {
   "cell_type": "markdown",
   "id": "c226de5f",
   "metadata": {},
   "source": [
    "Using the dictionary of the 20 most common words and their frequency, retrieve the keys and values."
   ]
  },
  {
   "cell_type": "code",
   "execution_count": 28,
   "id": "231bcbba",
   "metadata": {},
   "outputs": [
    {
     "name": "stdout",
     "output_type": "stream",
     "text": [
      "dict_keys(['dont', 'im', 'oh', 'well', 'yes', 'right', 'sir', 'know', 'going', 'get', 'good', 'see', 'go', 'lord', 'come', 'artoo', 'chewie', 'youre', 'luke', 'like'])\n"
     ]
    }
   ],
   "source": [
    "#only the dictionary keys (words)\n",
    "most_freq_words_used = common_words_dic.keys()\n",
    "print(most_freq_words_used)"
   ]
  },
  {
   "cell_type": "code",
   "execution_count": 29,
   "id": "34c6c25e",
   "metadata": {},
   "outputs": [
    {
     "name": "stdout",
     "output_type": "stream",
     "text": [
      "dict_values([66, 61, 42, 41, 40, 38, 38, 36, 35, 33, 31, 29, 28, 28, 27, 27, 26, 25, 25, 25])\n"
     ]
    }
   ],
   "source": [
    "#only the dictionary values (how often the word occurs)\n",
    "most_freq_words_used_values = common_words_dic.values()\n",
    "print(most_freq_words_used_values)"
   ]
  },
  {
   "cell_type": "markdown",
   "id": "0828f5b4",
   "metadata": {},
   "source": [
    "Using the keys and values, create a bar chart comparing the 20 most common words spoken and their frequency."
   ]
  },
  {
   "cell_type": "code",
   "execution_count": 30,
   "id": "7412456c",
   "metadata": {},
   "outputs": [
    {
     "data": {
      "image/png": "[encoded data removed]",
      "text/plain": [
       "<Figure size 432x288 with 1 Axes>"
      ]
     },
     "metadata": {
      "needs_background": "light"
     },
     "output_type": "display_data"
    }
   ],
   "source": [
    "#create a bar chart comparing 20 most common words and how often they occur\n",
    "Word = most_freq_words_used\n",
    "Word_Frequency = most_freq_words_used_values\n",
    "plt.bar(Word, Word_Frequency, color=['orange'])\n",
    "plt.title('Twenty Most Common Words Spoken in SW Episode V')\n",
    "plt.xlabel('Word', labelpad= -4)\n",
    "plt.xticks(rotation = 75)\n",
    "plt.xticks(fontsize= 8)\n",
    "plt.ylabel('Frequency')\n",
    "plt.yticks(fontsize = 10)\n",
    "plt.show()"
   ]
  }
 ],
 "metadata": {
  "kernelspec": {
   "display_name": "Python 3 (ipykernel)",
   "language": "python",
   "name": "python3"
  },
  "language_info": {
   "codemirror_mode": {
    "name": "ipython",
    "version": 3
   },
   "file_extension": ".py",
   "mimetype": "text/x-python",
   "name": "python",
   "nbconvert_exporter": "python",
   "pygments_lexer": "ipython3",
   "version": "3.9.7"
  }
 },
 "nbformat": 4,
 "nbformat_minor": 5
}
