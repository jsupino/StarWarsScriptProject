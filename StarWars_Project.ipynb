{
 "cells": [
  {
   "cell_type": "markdown",
   "id": "c9d8bc86",
   "metadata": {},
   "source": [
    "# Star Wars Episode V Project\n",
    "By: Jade Supino"
   ]
  },
  {
   "cell_type": "markdown",
   "id": "c0a5a9a6",
   "metadata": {},
   "source": [
    "----"
   ]
  },
  {
   "cell_type": "markdown",
   "id": "0e001549",
   "metadata": {},
   "source": [
    "Using the Star Wars script from Episode V. Obtained this script from Kaggle.\n",
    "\n",
    "Refer to the link: https://www.kaggle.com/datasets/xvivancos/star-wars-movie-scripts?select=SW_EpisodeV.txt"
   ]
  },
  {
   "cell_type": "markdown",
   "id": "2edc9c11",
   "metadata": {},
   "source": [
    "### Import Required"
   ]
  },
  {
   "cell_type": "code",
   "execution_count": 1,
   "id": "2dfd5d6c",
   "metadata": {},
   "outputs": [],
   "source": [
    "import numpy as np"
   ]
  },
  {
   "cell_type": "code",
   "execution_count": 2,
   "id": "1cf4740b",
   "metadata": {},
   "outputs": [],
   "source": [
    "import nltk"
   ]
  },
  {
   "cell_type": "code",
   "execution_count": 3,
   "id": "ff2d05c8",
   "metadata": {},
   "outputs": [],
   "source": [
    "import matplotlib.pyplot as plt"
   ]
  },
  {
   "cell_type": "code",
   "execution_count": 4,
   "id": "c30305e1",
   "metadata": {},
   "outputs": [],
   "source": [
    "from collections import Counter"
   ]
  },
  {
   "cell_type": "code",
   "execution_count": 5,
   "id": "a19ac87f",
   "metadata": {},
   "outputs": [],
   "source": [
    "from nltk.tokenize import word_tokenize\n",
    "from nltk.corpus import stopwords"
   ]
  },
  {
   "cell_type": "markdown",
   "id": "2214ddec",
   "metadata": {},
   "source": [
    "Download the necessary files for the Natural Language Toolkit\n",
    "\n",
    "*For this project, I downloaded the most popular*"
   ]
  },
  {
   "cell_type": "code",
   "execution_count": null,
   "id": "b74e6c27",
   "metadata": {},
   "outputs": [],
   "source": [
    "#download necessary files from the Natural Language Toolkit (downloaded most popular)\n",
    "nltk.download()\n",
    "#if needed: download stopwords from nltk\n",
    "nltk.download('stopwords')"
   ]
  },
  {
   "cell_type": "markdown",
   "id": "6e6952f0",
   "metadata": {},
   "source": [
    "### Structure the dataset"
   ]
  },
  {
   "cell_type": "markdown",
   "id": "7eb1d11f",
   "metadata": {},
   "source": [
    "Create a list where each line is split by the quotes and separated by commas. Then, each line is separated by line number, character name, and dialogue.\n",
    "\n",
    "Each word in the list becomes lowercased. This is the structured data that is used throughout this project.\n",
    "\n",
    "*Refer to SW_Dataset.ipynb to view the entire printed out structured dataset.*"
   ]
  },
  {
   "cell_type": "code",
   "execution_count": 6,
   "id": "d38543cb",
   "metadata": {},
   "outputs": [],
   "source": [
    "#create a list: separated by each line: line number, character name, and dialogue\n",
    "sw_dic = []\n",
    "with open(\"SW_EpisodeV.txt\", \"r\") as text:\n",
    "    text = text.readlines()[1:]  #skip first line in file\n",
    "    for line in text:\n",
    "        line = line.lower().split('\"') #lowercase all words and split by quotes\n",
    "        dialogue = line.pop(5)\n",
    "        name = line.pop(3)\n",
    "        line_number = line.pop(1)\n",
    "        new_obj = {\n",
    "            \"line\": line_number,\n",
    "            \"name\": name,\n",
    "            \"dialogue\": dialogue\n",
    "        }\n",
    "        sw_dic.append(new_obj)"
   ]
  },
  {
   "cell_type": "markdown",
   "id": "00a0b1c2",
   "metadata": {},
   "source": [
    "### Create a dictionary of character names and line frequency"
   ]
  },
  {
   "cell_type": "markdown",
   "id": "ecb63955",
   "metadata": {},
   "source": [
    "Create a numpy.ndarray of all the character names. Create a list to store all these names. Then using Counter, find the number of lines each character has and store in a dictionary."
   ]
  },
  {
   "cell_type": "code",
   "execution_count": 7,
   "id": "e568aa60",
   "metadata": {
    "scrolled": false
   },
   "outputs": [
    {
     "name": "stdout",
     "output_type": "stream",
     "text": [
      "{'luke': 128, 'han': 182, 'rieekan': 13, 'leia': 114, 'threepio': 92, 'deck officer': 7, 'assistant officer': 1, 'lieutenant': 2, 'derlin': 3, 'ben': 15, 'zev': 6, 'announcer': 3, 'senior controller': 2, 'piett': 23, 'ozzel': 5, 'vader': 56, 'rebel captain': 1, 'rebel fighter': 1, 'medical droid': 2, 'controller': 3, 'veers': 7, 'hobbie': 1, 'pilots': 1, 'captain': 1, 'woman controller': 1, 'dack': 4, 'trench officer': 3, 'wedge': 8, 'janson': 4, 'head controller': 1, 'officer': 1, 'second officer': 1, 'pilot': 1, 'imperial officer': 2, 'strange voice': 1, 'creature': 21, 'needa': 5, 'emperor': 5, 'yoda': 36, 'first controller': 1, 'second controller': 1, 'boba fett': 4, 'tracking officer': 2, 'communications officer': 2, 'intercom voice': 2, 'lando': 61, 'second threepio': 1, 'man': 1, 'imperial soldier': 1}\n"
     ]
    }
   ],
   "source": [
    "#create a numpy.ndarray of all character names\n",
    "arr = np.array(sw_dic)\n",
    "\n",
    "#create a list of all character names\n",
    "name_column = [row['name'] for row in arr]\n",
    "\n",
    "#use Counter to count how many lines each character has and convert the list into a dictionary\n",
    "name_freq = dict(Counter(name_column))\n",
    "print(name_freq)"
   ]
  },
  {
   "cell_type": "markdown",
   "id": "6158ecd5",
   "metadata": {},
   "source": [
    "-----"
   ]
  },
  {
   "cell_type": "markdown",
   "id": "2b220d2d",
   "metadata": {},
   "source": [
    "### Find the character that has the most lines"
   ]
  },
  {
   "cell_type": "markdown",
   "id": "f6cc1c30",
   "metadata": {},
   "source": [
    "Define a function to find the character that speaks the most frequently throughout this episode. This character has the most lines and is the most active."
   ]
  },
  {
   "cell_type": "code",
   "execution_count": 8,
   "id": "30a1d7f9",
   "metadata": {
    "scrolled": true
   },
   "outputs": [
    {
     "name": "stdout",
     "output_type": "stream",
     "text": [
      "The most active character in this episode is:  han\n"
     ]
    }
   ],
   "source": [
    "#function to find the character that speaks the most frequent\n",
    "def most_frequent(name_column):\n",
    "    counter = 0\n",
    "    num = name_column[0]\n",
    "    for i in name_column:\n",
    "        freq = name_column.count(i)\n",
    "        if(freq>counter):\n",
    "            counter = freq\n",
    "            num = i\n",
    "    return num\n",
    "#print the character with the most lines\n",
    "print(\"The most active character in this episode is: \",most_frequent(name_column))"
   ]
  },
  {
   "cell_type": "markdown",
   "id": "58ffafb3",
   "metadata": {},
   "source": [
    "#### Han is the character in Episode V with the most speaking lines."
   ]
  },
  {
   "cell_type": "markdown",
   "id": "77f582d0",
   "metadata": {},
   "source": [
    "------"
   ]
  },
  {
   "cell_type": "markdown",
   "id": "50eefdbb",
   "metadata": {},
   "source": [
    "### Find the top three characters with the most lines"
   ]
  },
  {
   "cell_type": "markdown",
   "id": "d327c061",
   "metadata": {},
   "source": [
    "Create a list of the top three characters that have the most lines."
   ]
  },
  {
   "cell_type": "code",
   "execution_count": 9,
   "id": "39dec779",
   "metadata": {
    "scrolled": true
   },
   "outputs": [
    {
     "name": "stdout",
     "output_type": "stream",
     "text": [
      "[('han', 182), ('luke', 128), ('leia', 114)]\n"
     ]
    }
   ],
   "source": [
    "#using Counter to count how many lines each character has\n",
    "top_char = Counter(name_column)\n",
    "\n",
    "#create a list of the top three characters that speak the most\n",
    "top_three = top_char.most_common(3)\n",
    "print(top_three)"
   ]
  },
  {
   "cell_type": "markdown",
   "id": "4bd703b8",
   "metadata": {},
   "source": [
    "Convert this list into a dictionary of the top three characters."
   ]
  },
  {
   "cell_type": "code",
   "execution_count": 10,
   "id": "bd34ca4a",
   "metadata": {},
   "outputs": [
    {
     "name": "stdout",
     "output_type": "stream",
     "text": [
      "{'han': 182, 'luke': 128, 'leia': 114}\n"
     ]
    }
   ],
   "source": [
    "#convert the list into a dictionary of top three characters\n",
    "top_three_dic = dict(top_three)\n",
    "print(top_three_dic)"
   ]
  },
  {
   "cell_type": "markdown",
   "id": "c66983d8",
   "metadata": {},
   "source": [
    "Using the dictionary of the top three characters and their line frequency, retrieve the keys and values."
   ]
  },
  {
   "cell_type": "code",
   "execution_count": 11,
   "id": "b681e096",
   "metadata": {},
   "outputs": [
    {
     "name": "stdout",
     "output_type": "stream",
     "text": [
      "dict_keys(['han', 'luke', 'leia'])\n"
     ]
    }
   ],
   "source": [
    "#using top_three_dic, get only the dictionary keys (top 3 character names)\n",
    "top_three_keys = top_three_dic.keys()\n",
    "print(top_three_keys)"
   ]
  },
  {
   "cell_type": "code",
   "execution_count": 12,
   "id": "d0671e05",
   "metadata": {
    "scrolled": true
   },
   "outputs": [
    {
     "name": "stdout",
     "output_type": "stream",
     "text": [
      "dict_values([182, 128, 114])\n"
     ]
    }
   ],
   "source": [
    "#using top_three_dic, get only the dictionary values (how many lines each character has)\n",
    "top_three_values = top_three_dic.values()\n",
    "print(top_three_values)"
   ]
  },
  {
   "cell_type": "markdown",
   "id": "96fc4414",
   "metadata": {},
   "source": [
    "Using the keys and values from the top_three_dic dictionary, create a pie chart comparing the top three characters and their line frequency."
   ]
  },
  {
   "cell_type": "code",
   "execution_count": 13,
   "id": "396ba45f",
   "metadata": {
    "scrolled": false
   },
   "outputs": [
    {
     "data": {
      "image/png": "[encoded data removed]",
      "text/plain": [
       "<Figure size 720x504 with 1 Axes>"
      ]
     },
     "metadata": {},
     "output_type": "display_data"
    }
   ],
   "source": [
    "#create a pie chart of the top 3 most active characters\n",
    "mycolors = [\"orange\", \"magenta\", \"cyan\"]\n",
    "myexplode = (0.1, 0, 0) \n",
    "fig = plt.figure(figsize = (10,7))\n",
    "plt.pie(top_three_values, labels = top_three_keys, autopct='%1.1f%%', shadow = True, colors = mycolors, explode = myexplode)\n",
    "plt.title(\"Top 3 Most Active Characters\")\n",
    "plt.legend(title = \"Character\")\n",
    "plt.show()"
   ]
  },
  {
   "cell_type": "markdown",
   "id": "dac5d5c4",
   "metadata": {},
   "source": [
    "----"
   ]
  },
  {
   "cell_type": "markdown",
   "id": "7dde404e",
   "metadata": {},
   "source": [
    "### Compare the characters and their line frequency"
   ]
  },
  {
   "cell_type": "markdown",
   "id": "8a51324a",
   "metadata": {},
   "source": [
    "Using the dictionary of all character names and line frequency, retrieve the keys and values."
   ]
  },
  {
   "cell_type": "code",
   "execution_count": 14,
   "id": "4cbd193d",
   "metadata": {},
   "outputs": [
    {
     "name": "stdout",
     "output_type": "stream",
     "text": [
      "dict_keys(['luke', 'han', 'rieekan', 'leia', 'threepio', 'deck officer', 'assistant officer', 'lieutenant', 'derlin', 'ben', 'zev', 'announcer', 'senior controller', 'piett', 'ozzel', 'vader', 'rebel captain', 'rebel fighter', 'medical droid', 'controller', 'veers', 'hobbie', 'pilots', 'captain', 'woman controller', 'dack', 'trench officer', 'wedge', 'janson', 'head controller', 'officer', 'second officer', 'pilot', 'imperial officer', 'strange voice', 'creature', 'needa', 'emperor', 'yoda', 'first controller', 'second controller', 'boba fett', 'tracking officer', 'communications officer', 'intercom voice', 'lando', 'second threepio', 'man', 'imperial soldier'])\n"
     ]
    }
   ],
   "source": [
    "#using name_freq, get only the dictionary keys (character names)\n",
    "char_name_dic = name_freq.keys()\n",
    "print(char_name_dic)"
   ]
  },
  {
   "cell_type": "code",
   "execution_count": 15,
   "id": "b95c7ae5",
   "metadata": {},
   "outputs": [
    {
     "name": "stdout",
     "output_type": "stream",
     "text": [
      "dict_values([128, 182, 13, 114, 92, 7, 1, 2, 3, 15, 6, 3, 2, 23, 5, 56, 1, 1, 2, 3, 7, 1, 1, 1, 1, 4, 3, 8, 4, 1, 1, 1, 1, 2, 1, 21, 5, 5, 36, 1, 1, 4, 2, 2, 2, 61, 1, 1, 1])\n"
     ]
    }
   ],
   "source": [
    "#using name_freq, get only the dictionary values (how many lines each character has)\n",
    "freq_dic = name_freq.values()\n",
    "print(freq_dic)"
   ]
  },
  {
   "cell_type": "markdown",
   "id": "7368db98",
   "metadata": {},
   "source": [
    "Using the keys and values from the name_freq dictionary, create a bar chart comparing the characters and their line frequency."
   ]
  },
  {
   "cell_type": "code",
   "execution_count": 16,
   "id": "518fe880",
   "metadata": {
    "scrolled": true
   },
   "outputs": [
    {
     "data": {
      "image/png": "[encoded data removed]",
      "text/plain": [
       "<Figure size 432x288 with 1 Axes>"
      ]
     },
     "metadata": {
      "needs_background": "light"
     },
     "output_type": "display_data"
    }
   ],
   "source": [
    "#create a bar chart comparing characters and the number of lines they have\n",
    "Character = char_name_dic \n",
    "Frequency = freq_dic \n",
    "plt.bar(Character, Frequency, color=['purple'])\n",
    "plt.title('Character Lines in SW Episode V')\n",
    "plt.xlabel('Character', labelpad= -10)\n",
    "plt.xticks(rotation = 'vertical')\n",
    "plt.xticks(fontsize= 6)\n",
    "plt.ylabel('Frequency')\n",
    "plt.yticks(fontsize = 8)\n",
    "plt.show()"
   ]
  },
  {
   "cell_type": "markdown",
   "id": "49b00df4",
   "metadata": {},
   "source": [
    "----"
   ]
  },
  {
   "cell_type": "markdown",
   "id": "4f8501ea",
   "metadata": {},
   "source": [
    "### Create a list of all the dialogue and remove all punctuation"
   ]
  },
  {
   "cell_type": "markdown",
   "id": "d19ca0fe",
   "metadata": {},
   "source": [
    "Create a numpy.ndarray of all the dialogue spoken throughout the episode. Create a list to store all the dialogue."
   ]
  },
  {
   "cell_type": "code",
   "execution_count": 17,
   "id": "72664462",
   "metadata": {},
   "outputs": [],
   "source": [
    "#create a numpy.ndarray of the dialogue\n",
    "dialogue_arr = np.array(sw_dic)\n",
    "\n",
    "#convert it into a list of the dialogue\n",
    "char_lines = [row['dialogue'] for row in dialogue_arr]"
   ]
  },
  {
   "cell_type": "markdown",
   "id": "6541e826",
   "metadata": {},
   "source": [
    "To use the dialogue, it is important to remove all punctuation. First, remove all outer punctuation."
   ]
  },
  {
   "cell_type": "code",
   "execution_count": 18,
   "id": "704ec44a",
   "metadata": {},
   "outputs": [],
   "source": [
    "#remove outer punctuation\n",
    "import string\n",
    "excluded = set(string.punctuation)\n",
    "char_lines = ' '.join(ch for ch in char_lines if ch not in excluded)"
   ]
  },
  {
   "cell_type": "markdown",
   "id": "d26c0c44",
   "metadata": {},
   "source": [
    "After removing the outer punctuation, the inner punctuation must also be removed."
   ]
  },
  {
   "cell_type": "code",
   "execution_count": 19,
   "id": "3bf0ea89",
   "metadata": {},
   "outputs": [],
   "source": [
    "#remove the rest of the punctuation\n",
    "punc = '''!()-[]{};:'\"\\,<>./?@#$%^&*_~'''\n",
    "no_punc_lines = \" \"\n",
    "for char_punc in char_lines:\n",
    "    if char_punc not in punc:\n",
    "        no_punc_lines = no_punc_lines + char_punc\n",
    "no_punc_lines = no_punc_lines"
   ]
  },
  {
   "cell_type": "markdown",
   "id": "f5831b80",
   "metadata": {},
   "source": [
    "### Remove all stopwords from dialogue"
   ]
  },
  {
   "cell_type": "markdown",
   "id": "4f0bc80c",
   "metadata": {},
   "source": [
    "Now, all stopwords must be removed from the dialogue. These stopwords are words that do not add much meaning to this analysis, and therefore are unnecessary.\n",
    "\n",
    "Remove all stopwords using nltk and store it in a list."
   ]
  },
  {
   "cell_type": "code",
   "execution_count": 20,
   "id": "d5c15030",
   "metadata": {},
   "outputs": [],
   "source": [
    "#remove stopwords from the dialogue\n",
    "stopWords = set(stopwords.words('english'))\n",
    "words = word_tokenize(no_punc_lines)\n",
    "filtered_dialogue = []\n",
    "\n",
    "for w in words:\n",
    "    if w not in stopWords:\n",
    "        filtered_dialogue.append(w)"
   ]
  },
  {
   "cell_type": "markdown",
   "id": "01a83171",
   "metadata": {},
   "source": [
    "Create a list of the 20 most common words used throughout the episode."
   ]
  },
  {
   "cell_type": "code",
   "execution_count": 21,
   "id": "22b104e3",
   "metadata": {
    "scrolled": true
   },
   "outputs": [
    {
     "name": "stdout",
     "output_type": "stream",
     "text": [
      "[('dont', 66), ('im', 61), ('oh', 42), ('well', 41), ('yes', 40), ('right', 38), ('sir', 38), ('know', 36), ('going', 35), ('get', 33), ('good', 31), ('see', 29), ('go', 28), ('lord', 28), ('come', 27), ('artoo', 27), ('chewie', 26), ('youre', 25), ('luke', 25), ('like', 25)]\n"
     ]
    }
   ],
   "source": [
    "#use Counter to create a list of the 20 most common words spoken\n",
    "Count_no = Counter(filtered_dialogue)\n",
    "common_words = Count_no.most_common(20)\n",
    "print(common_words)"
   ]
  },
  {
   "cell_type": "markdown",
   "id": "af017b33",
   "metadata": {},
   "source": [
    "----"
   ]
  },
  {
   "cell_type": "markdown",
   "id": "b34fef58",
   "metadata": {},
   "source": [
    "### Create a dictionary of the 20 most common words and their frequency"
   ]
  },
  {
   "cell_type": "markdown",
   "id": "59ed9b6e",
   "metadata": {},
   "source": [
    "Convert the list of the 20 most common words into a dictionary."
   ]
  },
  {
   "cell_type": "code",
   "execution_count": 22,
   "id": "aba1c2f8",
   "metadata": {
    "scrolled": false
   },
   "outputs": [
    {
     "name": "stdout",
     "output_type": "stream",
     "text": [
      "{'dont': 66, 'im': 61, 'oh': 42, 'well': 41, 'yes': 40, 'right': 38, 'sir': 38, 'know': 36, 'going': 35, 'get': 33, 'good': 31, 'see': 29, 'go': 28, 'lord': 28, 'come': 27, 'artoo': 27, 'chewie': 26, 'youre': 25, 'luke': 25, 'like': 25}\n"
     ]
    }
   ],
   "source": [
    "#Convert the list into a dictionary of the 20 most common words\n",
    "common_words_dic = dict(common_words)\n",
    "print(common_words_dic)"
   ]
  },
  {
   "cell_type": "markdown",
   "id": "7d40f0bc",
   "metadata": {},
   "source": [
    "### Compare the 20 most common words spoken in Episode V"
   ]
  },
  {
   "cell_type": "markdown",
   "id": "c226de5f",
   "metadata": {},
   "source": [
    "Using the dictionary of the 20 most common words and their frequency, retrieve the keys and values."
   ]
  },
  {
   "cell_type": "code",
   "execution_count": 23,
   "id": "231bcbba",
   "metadata": {},
   "outputs": [
    {
     "name": "stdout",
     "output_type": "stream",
     "text": [
      "dict_keys(['dont', 'im', 'oh', 'well', 'yes', 'right', 'sir', 'know', 'going', 'get', 'good', 'see', 'go', 'lord', 'come', 'artoo', 'chewie', 'youre', 'luke', 'like'])\n"
     ]
    }
   ],
   "source": [
    "#using common_words_dic, get only the dictionary keys (words)\n",
    "most_freq_words_used = common_words_dic.keys()\n",
    "print(most_freq_words_used)"
   ]
  },
  {
   "cell_type": "code",
   "execution_count": 24,
   "id": "34c6c25e",
   "metadata": {
    "scrolled": true
   },
   "outputs": [
    {
     "name": "stdout",
     "output_type": "stream",
     "text": [
      "dict_values([66, 61, 42, 41, 40, 38, 38, 36, 35, 33, 31, 29, 28, 28, 27, 27, 26, 25, 25, 25])\n"
     ]
    }
   ],
   "source": [
    "#using common_words_dic, only the dictionary values (how often the word occurs)\n",
    "most_freq_words_used_values = common_words_dic.values()\n",
    "print(most_freq_words_used_values)"
   ]
  },
  {
   "cell_type": "markdown",
   "id": "0828f5b4",
   "metadata": {},
   "source": [
    "Using the keys and values from the common_words_dic dictionary, create a bar chart comparing the 20 most common words spoken and their frequency."
   ]
  },
  {
   "cell_type": "code",
   "execution_count": 25,
   "id": "7412456c",
   "metadata": {},
   "outputs": [
    {
     "data": {
      "image/png": "[encoded data removed]",
      "text/plain": [
       "<Figure size 432x288 with 1 Axes>"
      ]
     },
     "metadata": {
      "needs_background": "light"
     },
     "output_type": "display_data"
    }
   ],
   "source": [
    "#create a bar chart comparing 20 most common words and how often they occur\n",
    "Word = most_freq_words_used\n",
    "Word_Frequency = most_freq_words_used_values\n",
    "plt.bar(Word, Word_Frequency, color=['orange'])\n",
    "plt.title('Twenty Most Common Words Spoken in SW Episode V')\n",
    "plt.xlabel('Word', labelpad= -4)\n",
    "plt.xticks(rotation = 75)\n",
    "plt.xticks(fontsize= 8)\n",
    "plt.ylabel('Frequency')\n",
    "plt.yticks(fontsize = 10)\n",
    "plt.show()"
   ]
  },
  {
   "cell_type": "markdown",
   "id": "ce289d03",
   "metadata": {},
   "source": [
    "#### As shown above, the most common word used throughout the episode is \"dont\"."
   ]
  },
  {
   "cell_type": "markdown",
   "id": "dd59bc03",
   "metadata": {},
   "source": [
    "----"
   ]
  },
  {
   "cell_type": "markdown",
   "id": "96012ec1",
   "metadata": {},
   "source": [
    "### Summary"
   ]
  },
  {
   "cell_type": "markdown",
   "id": "df57e6de",
   "metadata": {},
   "source": [
    "Using the Star Wars Episode V script, obtained from Kaggle, important information from this episode can be retrieved using Python. After installing the required Python packages and importing the necessary files from these packages, the user can begin their required analyses.\n",
    "\n",
    "After viewing the unstructured script and noticing the first line in the script was \"character\" \"dialogue\", removing this line is important as it is not necessary for the analysis. The structured dataset is all lowercase, split by each line and organized by line number, character name, and dialogue. The structured dataset is stored in a **list**.\n",
    "\n",
    "\n",
    "A **numpy.ndarray** is created using all the character names. Storing these names in a **list** and using Counter from collections to count the number of lines each character speaks. This list is converted into a **dictionary** of each character name and their line frequency.\n",
    "\n",
    "To find the most active character, a **function** is created using the dictionary. **The most active character in this episode is Han.** Han has the most speaking lines out of all the characters.\n",
    "\n",
    "Using most.common(3), the top three characters from the dictionary can be retrieved and stored in a new **list**, which is converted into a new **dictionary**. The dictionary consists of the three most active character names and their line frequency. **The top three most active characters are Han, Luke, and Leia.** The three top characters can be plotted in a pie chart using matplotlib. As one can easily see, Han is the most active character out of the three. Luke is the second most active, and then Leia. This also validates that the most active character is Han, which was found using the function created before.\n",
    "\n",
    "There are many different characters in this episode. Using the dictionary initally created with all the character names and their line frequency, a bar chart can be created. Using matplotlib, each character and their number of lines can be plotted and easily compared. As one can easily see, **Han is still the most active character. The bar chart also validates that Luke is the second most active character and Leia is the third.**\n",
    "\n",
    "\n",
    "Now that the characters have been analyzed, the dialogue can also be analyzed. A **numpy.ndarray** is created using all the dialogue in this episode. *Remember, the first line of the script \"character\" \"dialogue\" was removed.* All the dialogue is stored in a **list**. Then, all the punctuation is removed. This is performed twice because the first time, only the outer punctuation is removed. To remove the inner punctuation, it is performed again.\n",
    "\n",
    "It is important to note that in any script, there are very common words used, such as \"the\", \"a\", \"an\", etc. These words do not add much meaning to the analysis and therefore must be removed. By using the Natural Language Toolkit, this has been made very simple! Stopwords can be downloaded from nltk and used to remove all stopwords from the dialogue. After removing all stopwords, it is stored in a **list**.\n",
    "\n",
    "To find the 20 most common words spoken throughout this episode, use Counter from collections, to count how many times each word is used. Using most.common(20), the 20 most common words will be retrieved and stored in a **list**. This list is converted into a **dictionary** so that a bar chart can be created comparing the words and their frequency. Using matplotlib, the words and their frequency can easily be compared. As one can easily see, **the most common word used throughout the episode is \"dont\".**\n",
    "\n",
    "By structuring the Star Wars script and utilizing these Python packages, the user can analyze important parts of the script. Finding all the character names and the number of lines they speak throughout this episode and comparing them using a bar chart. Finding who the most active character is and the top three most active characters. Validating that the characters match in each instance. Along with this, using the dialogue to find the 20 most common words spoken throughout the episode. Comparing these words using matplotlib and finding the most common word. This program lets the user retrieve and analyze important parts of the Star Wars Episode V script."
   ]
  }
 ],
 "metadata": {
  "kernelspec": {
   "display_name": "Python 3 (ipykernel)",
   "language": "python",
   "name": "python3"
  },
  "language_info": {
   "codemirror_mode": {
    "name": "ipython",
    "version": 3
   },
   "file_extension": ".py",
   "mimetype": "text/x-python",
   "name": "python",
   "nbconvert_exporter": "python",
   "pygments_lexer": "ipython3",
   "version": "3.9.7"
  }
 },
 "nbformat": 4,
 "nbformat_minor": 5
}
